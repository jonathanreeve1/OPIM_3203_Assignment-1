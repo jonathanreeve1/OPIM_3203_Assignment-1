{
  "nbformat": 4,
  "nbformat_minor": 0,
  "metadata": {
    "colab": {
      "provenance": []
    },
    "kernelspec": {
      "name": "python3",
      "display_name": "Python 3"
    },
    "language_info": {
      "name": "python"
    }
  },
  "cells": [
    {
      "cell_type": "markdown",
      "source": [
        "# OPIM 3203 - Assignment 1\n",
        "\n",
        "Instruction and Objective\n",
        "-\tThis is Assignment 1 of OPIM 3203.\n",
        "- There is one file you need to download from the HuskyCT course website: the starter netid_assignment1_fall2023.ipynb file (this file), which also includes all instructions.\n",
        "- You will be asked to complete some questions in this file. You need to edit this .ipynb file in Google Colab (or your own Python programming environment), replace '...', and then insert your code.\n",
        "- Your code must be executable for the grader. Therefore, please make sure to wipe out '...' before you insert your code.\n",
        "- In some cell of this file, you will be asked to insert some result after you run the code you inserted. Again, please first remove '...' and then insert your result.\n",
        "- At the end of this file, you will be asked to rename this .ipynb file with netid appropriately replaced. Please upload the renamed file with your code and result to the HuskyCT course website.\n",
        "-\tYou are welcome to use any resource to help you complete the assignment.\n",
        "-\tAssignment 1 will not be counted towards your grade, but still it's important. Hopefully you can complete Assignment 1 by the end of the second week of the semester."
      ],
      "metadata": {
        "id": "298-a-57cz5a"
      }
    },
    {
      "cell_type": "code",
      "execution_count": null,
      "metadata": {
        "id": "vrL2HkbFctIu"
      },
      "outputs": [],
      "source": []
    },
    {
      "cell_type": "code",
      "source": [
        "# 1. This is a code cell in Google Colab.\n",
        "# Note that Python comments start with the hash (#) symbol.\n",
        "# So the lines of code within this code cell are all comments in Python.\n",
        "# Please just run this code cell.\n",
        "# To run this code cell, it's as simple as clicking the play button located on the left of the cell, whether you are on Windows or Mac.\n",
        "# If you are a Windows user, you can also press shift/control + enter to execute the code.\n",
        "# If you are a Mac user, you can also press shift/control/command + return to execute the code.\n",
        "# After you run this code cell, there should be no output (as all the lines in this code cell start with #)."
      ],
      "metadata": {
        "id": "l4d2Tvg3dWHN"
      },
      "execution_count": null,
      "outputs": []
    },
    {
      "cell_type": "code",
      "source": [
        "# The cell below this code cell is a text cell in Google Colab. It explains what is a comment in Python. Please just read it."
      ],
      "metadata": {
        "id": "6mWaMru2dxIH"
      },
      "execution_count": null,
      "outputs": []
    },
    {
      "cell_type": "markdown",
      "source": [
        "## Comments in Python\n",
        "- Comments act like sticky notes for code, offering explanations.\n",
        "\n",
        "- Comments start with the hash (#) symbol. So hashed content on the same line is treated as a comment.\n",
        "\n",
        "- Comments are ignored by Python interpreter, serving as personal annotations.\n",
        "\n",
        "- Comments are crucial when we revisit code after time has passed.\n",
        "\n",
        "\n",
        "**The instructor will utilize Python comments (or text cells in Google Colab) to explain demo code or provide instructions for practice exercises during classes, questions within assignments and exam, etc.**"
      ],
      "metadata": {
        "id": "fJyotggvdsU9"
      }
    },
    {
      "cell_type": "code",
      "source": [
        "# The cell below is another text cell in Google Colab. It explains more about Colab. Please just read it."
      ],
      "metadata": {
        "id": "ZFdRLwW0nvsl"
      },
      "execution_count": null,
      "outputs": []
    },
    {
      "cell_type": "markdown",
      "source": [
        "# More about Google Colab\n",
        "\n",
        "In Colab, we work with \"notebooks\" (with .ipynb file extension).\n",
        "\n",
        "This file is a notebook file with the name netid_assignment1_fall2023.ipynb shown at the top.\n",
        "\n",
        "It provides a cell-based interface (Code cell vs. Text cell).\n",
        "\n",
        "Code cells contain code, and we run them to see their results instantly. Colab executes the code in the code cell and directly shows the output below the cell.\n",
        "\n",
        "Text cells are mainly used by the instructor to add instructions and explain the code in this course.\n"
      ],
      "metadata": {
        "id": "1s1uTTWAn0ue"
      }
    },
    {
      "cell_type": "code",
      "source": [],
      "metadata": {
        "id": "-p4sFTQfeg44"
      },
      "execution_count": null,
      "outputs": []
    },
    {
      "cell_type": "code",
      "source": [
        "# 2. Let's run some code in this code cell.\n",
        "# We tell the computer to display messages about some steps of making a fruit salad on the screen.\n",
        "# We do this using the print() function which we'll discuss further in later sessions of this course.\n",
        "# Please run this code cell.\n",
        "# To run this code cell, it's as simple as clicking the play button located on the left of the cell, whether you are on Windows or Mac.\n",
        "# If you are a Windows user, you can also press shift/control + enter to execute the code.\n",
        "# If you are a Mac user, you can also press shift/control/command + return to execute the code.\n",
        "print(\"1. Wash fruits.\")\n",
        "print(\"2. Chop fruits.\")\n",
        "print(\"3. Mix in a bowl.\")"
      ],
      "metadata": {
        "id": "UO_PIN3Vhbj6",
        "colab": {
          "base_uri": "https://localhost:8080/"
        },
        "outputId": "06f1174c-9e36-4e67-be3e-e13394e83f98"
      },
      "execution_count": null,
      "outputs": [
        {
          "output_type": "stream",
          "name": "stdout",
          "text": [
            "1. Wash fruits.\n",
            "2. Chop fruits.\n",
            "3. Mix in a bowl.\n"
          ]
        }
      ]
    },
    {
      "cell_type": "code",
      "source": [],
      "metadata": {
        "id": "4karc69gnAg6"
      },
      "execution_count": null,
      "outputs": []
    },
    {
      "cell_type": "code",
      "source": [
        "# 3. Google Colab provides built-in support for popular Python libraries like NumPy, Pandas, Matplotlib, NLTK and scikit-learn.\n",
        "# Python libraries are collections of pre-written code modules that offer various functions and tools,\n",
        "# allowing you to perform specific tasks without having to write everything from scratch.\n",
        "# In this code cell, let's import these Python libraries that will be used later again in this course.\n",
        "# Please just run this code cell.\n",
        "# To run this code cell, it's as simple as clicking the play button located on the left of the cell, whether you are on Windows or Mac.\n",
        "# If you are a Windows user, you can also press shift/control + enter to execute the code.\n",
        "# If you are a Mac user, you can also press shift/control/command + return to execute the code.\n",
        "# As long as it has no output (also no error messsages), then it's fine.\n",
        "import numpy\n",
        "import pandas\n",
        "import matplotlib\n",
        "import nltk\n",
        "import sklearn"
      ],
      "metadata": {
        "id": "IwdEUoaemJdZ"
      },
      "execution_count": null,
      "outputs": []
    },
    {
      "cell_type": "code",
      "source": [],
      "metadata": {
        "id": "PRPHiQKanBHT"
      },
      "execution_count": null,
      "outputs": []
    },
    {
      "cell_type": "code",
      "source": [
        "# 4. Let's try some basic mathematical operations, such as 1+1 to observe Python's calculation abilities.\n",
        "# 4(a). Please replace ... in this code cell with 1+1 and then run the code.\n",
        "# To run this code cell, it's as simple as clicking the play button located on the left of the cell, whether you are on Windows or Mac.\n",
        "# If you are a Windows user, you can also press shift/control + enter to execute the code.\n",
        "# If you are a Mac user, you can also press shift/control/command + return to execute the code.\n",
        "# You should see the output from the code 1+1 to appear right below the code cell.\n",
        "# Your code\n",
        "1+1"
      ],
      "metadata": {
        "id": "DbcKSAJVmrEb",
        "colab": {
          "base_uri": "https://localhost:8080/"
        },
        "outputId": "8d06b10e-a6af-48fd-9973-bd615c809e6b"
      },
      "execution_count": null,
      "outputs": [
        {
          "output_type": "execute_result",
          "data": {
            "text/plain": [
              "2"
            ]
          },
          "metadata": {},
          "execution_count": 10
        }
      ]
    },
    {
      "cell_type": "code",
      "source": [
        "# 4(b). Your result\n",
        "# The result after running the code cell above is: 2"
      ],
      "metadata": {
        "id": "hbSGjoLnnxQM"
      },
      "execution_count": null,
      "outputs": []
    },
    {
      "cell_type": "code",
      "source": [],
      "metadata": {
        "id": "u8qzrIkjnCD6"
      },
      "execution_count": null,
      "outputs": []
    },
    {
      "cell_type": "code",
      "source": [
        "# 5. Submitting your work\n",
        "# Save your file as aaa00000_assignment1_fall2023.ipynb (where aaa00000 is your NetID).\n",
        "# You can rename the file by clicking on the title “netid_assignment1_fall2023.ipynb” at the top,\n",
        "# and then changing it to the desired title for the file name.\n",
        "# If this file is saved in your Google Drive, please download it into a folder on your personal computer,\n",
        "# (To download the file, you can click File in the menu bar right below the title at the top, and then click Download and Download .ipynb)\n",
        "# so that you can easily locate it during your file submission to HuskyCT.\n",
        "# Go back to Assignment 1 in the HuskyCT course website.\n",
        "# Please submit your completed file to HuskyCT to finish your assignment."
      ],
      "metadata": {
        "id": "h-HzRIrngWxg"
      },
      "execution_count": null,
      "outputs": []
    }
  ]
}